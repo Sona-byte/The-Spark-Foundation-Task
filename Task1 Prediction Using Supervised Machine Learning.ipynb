{
 "cells": [
  {
   "cell_type": "markdown",
   "id": "3380c01f",
   "metadata": {},
   "source": [
    "# GRIP @ The Spark Foundation\n"
   ]
  },
  {
   "cell_type": "markdown",
   "id": "b21c74cc",
   "metadata": {},
   "source": [
    "# Sona Joshi(Data Science & Business Analytic Intern)"
   ]
  },
  {
   "cell_type": "markdown",
   "id": "afc49bc0",
   "metadata": {},
   "source": [
    "# Task 1 : Prediction using Supervised Machine Learning"
   ]
  },
  {
   "cell_type": "markdown",
   "id": "5294e9ed",
   "metadata": {},
   "source": [
    "# ( Level - Beginner )"
   ]
  },
  {
   "cell_type": "markdown",
   "id": "a467b2c7",
   "metadata": {},
   "source": [
    "# 𝗣𝗿𝗼𝗯𝗹𝗲𝗺 𝗦𝘁𝗮𝘁𝗲𝗺𝗲𝗻𝘁 : 𝗣𝗿𝗲𝗱𝗶𝗰𝘁 𝘁𝗵𝗲 𝗽𝗲𝗿𝗰𝗲𝗻𝘁𝗮𝗴𝗲 𝗼𝗳 𝗮𝗻 𝘀𝘁𝘂𝗱𝗲𝗻𝘁 𝗯𝗮𝘀𝗲𝗱 𝗼𝗻 𝘁𝗵𝗲 𝗻𝘂𝗺𝗯𝗲𝗿 𝗼𝗳 𝘀𝘁𝘂𝗱𝘆 𝗵𝗼𝘂𝗿𝘀."
   ]
  },
  {
   "cell_type": "markdown",
   "id": "8fb3eb0e",
   "metadata": {},
   "source": [
    "# Import all the require libraries"
   ]
  },
  {
   "cell_type": "code",
   "execution_count": 5,
   "id": "e45b8772",
   "metadata": {},
   "outputs": [],
   "source": [
    "import pandas as pd\n",
    "import numpy as np\n",
    "import matplotlib.pyplot as plt\n",
    "from sklearn.model_selection import train_test_split\n",
    "from sklearn.linear_model import LinearRegression"
   ]
  },
  {
   "cell_type": "markdown",
   "id": "eee55a82",
   "metadata": {},
   "source": [
    "# Read The given dataset from url"
   ]
  },
  {
   "cell_type": "code",
   "execution_count": 6,
   "id": "8e234b12",
   "metadata": {},
   "outputs": [
    {
     "name": "stdout",
     "output_type": "stream",
     "text": [
      "Dataset successfully imported!\n"
     ]
    },
    {
     "data": {
      "text/html": [
       "<div>\n",
       "<style scoped>\n",
       "    .dataframe tbody tr th:only-of-type {\n",
       "        vertical-align: middle;\n",
       "    }\n",
       "\n",
       "    .dataframe tbody tr th {\n",
       "        vertical-align: top;\n",
       "    }\n",
       "\n",
       "    .dataframe thead th {\n",
       "        text-align: right;\n",
       "    }\n",
       "</style>\n",
       "<table border=\"1\" class=\"dataframe\">\n",
       "  <thead>\n",
       "    <tr style=\"text-align: right;\">\n",
       "      <th></th>\n",
       "      <th>Hours</th>\n",
       "      <th>Scores</th>\n",
       "    </tr>\n",
       "  </thead>\n",
       "  <tbody>\n",
       "    <tr>\n",
       "      <th>0</th>\n",
       "      <td>2.5</td>\n",
       "      <td>21</td>\n",
       "    </tr>\n",
       "    <tr>\n",
       "      <th>1</th>\n",
       "      <td>5.1</td>\n",
       "      <td>47</td>\n",
       "    </tr>\n",
       "    <tr>\n",
       "      <th>2</th>\n",
       "      <td>3.2</td>\n",
       "      <td>27</td>\n",
       "    </tr>\n",
       "    <tr>\n",
       "      <th>3</th>\n",
       "      <td>8.5</td>\n",
       "      <td>75</td>\n",
       "    </tr>\n",
       "    <tr>\n",
       "      <th>4</th>\n",
       "      <td>3.5</td>\n",
       "      <td>30</td>\n",
       "    </tr>\n",
       "    <tr>\n",
       "      <th>5</th>\n",
       "      <td>1.5</td>\n",
       "      <td>20</td>\n",
       "    </tr>\n",
       "    <tr>\n",
       "      <th>6</th>\n",
       "      <td>9.2</td>\n",
       "      <td>88</td>\n",
       "    </tr>\n",
       "    <tr>\n",
       "      <th>7</th>\n",
       "      <td>5.5</td>\n",
       "      <td>60</td>\n",
       "    </tr>\n",
       "    <tr>\n",
       "      <th>8</th>\n",
       "      <td>8.3</td>\n",
       "      <td>81</td>\n",
       "    </tr>\n",
       "    <tr>\n",
       "      <th>9</th>\n",
       "      <td>2.7</td>\n",
       "      <td>25</td>\n",
       "    </tr>\n",
       "    <tr>\n",
       "      <th>10</th>\n",
       "      <td>7.7</td>\n",
       "      <td>85</td>\n",
       "    </tr>\n",
       "    <tr>\n",
       "      <th>11</th>\n",
       "      <td>5.9</td>\n",
       "      <td>62</td>\n",
       "    </tr>\n",
       "    <tr>\n",
       "      <th>12</th>\n",
       "      <td>4.5</td>\n",
       "      <td>41</td>\n",
       "    </tr>\n",
       "    <tr>\n",
       "      <th>13</th>\n",
       "      <td>3.3</td>\n",
       "      <td>42</td>\n",
       "    </tr>\n",
       "    <tr>\n",
       "      <th>14</th>\n",
       "      <td>1.1</td>\n",
       "      <td>17</td>\n",
       "    </tr>\n",
       "  </tbody>\n",
       "</table>\n",
       "</div>"
      ],
      "text/plain": [
       "    Hours  Scores\n",
       "0     2.5      21\n",
       "1     5.1      47\n",
       "2     3.2      27\n",
       "3     8.5      75\n",
       "4     3.5      30\n",
       "5     1.5      20\n",
       "6     9.2      88\n",
       "7     5.5      60\n",
       "8     8.3      81\n",
       "9     2.7      25\n",
       "10    7.7      85\n",
       "11    5.9      62\n",
       "12    4.5      41\n",
       "13    3.3      42\n",
       "14    1.1      17"
      ]
     },
     "execution_count": 6,
     "metadata": {},
     "output_type": "execute_result"
    }
   ],
   "source": [
    "URL = r\"http://bit.ly/w-data\"\n",
    "df = pd.read_csv(URL)\n",
    "data = df.copy()\n",
    "print(\"Dataset successfully imported!\")\n",
    "\n",
    "data.head(15)"
   ]
  },
  {
   "cell_type": "markdown",
   "id": "058defb0",
   "metadata": {},
   "source": [
    "# Printing the last 10 lines of dataset"
   ]
  },
  {
   "cell_type": "code",
   "execution_count": 11,
   "id": "881e8ac8",
   "metadata": {},
   "outputs": [
    {
     "data": {
      "text/html": [
       "<div>\n",
       "<style scoped>\n",
       "    .dataframe tbody tr th:only-of-type {\n",
       "        vertical-align: middle;\n",
       "    }\n",
       "\n",
       "    .dataframe tbody tr th {\n",
       "        vertical-align: top;\n",
       "    }\n",
       "\n",
       "    .dataframe thead th {\n",
       "        text-align: right;\n",
       "    }\n",
       "</style>\n",
       "<table border=\"1\" class=\"dataframe\">\n",
       "  <thead>\n",
       "    <tr style=\"text-align: right;\">\n",
       "      <th></th>\n",
       "      <th>Hours</th>\n",
       "      <th>Scores</th>\n",
       "    </tr>\n",
       "  </thead>\n",
       "  <tbody>\n",
       "    <tr>\n",
       "      <th>15</th>\n",
       "      <td>8.9</td>\n",
       "      <td>95</td>\n",
       "    </tr>\n",
       "    <tr>\n",
       "      <th>16</th>\n",
       "      <td>2.5</td>\n",
       "      <td>30</td>\n",
       "    </tr>\n",
       "    <tr>\n",
       "      <th>17</th>\n",
       "      <td>1.9</td>\n",
       "      <td>24</td>\n",
       "    </tr>\n",
       "    <tr>\n",
       "      <th>18</th>\n",
       "      <td>6.1</td>\n",
       "      <td>67</td>\n",
       "    </tr>\n",
       "    <tr>\n",
       "      <th>19</th>\n",
       "      <td>7.4</td>\n",
       "      <td>69</td>\n",
       "    </tr>\n",
       "    <tr>\n",
       "      <th>20</th>\n",
       "      <td>2.7</td>\n",
       "      <td>30</td>\n",
       "    </tr>\n",
       "    <tr>\n",
       "      <th>21</th>\n",
       "      <td>4.8</td>\n",
       "      <td>54</td>\n",
       "    </tr>\n",
       "    <tr>\n",
       "      <th>22</th>\n",
       "      <td>3.8</td>\n",
       "      <td>35</td>\n",
       "    </tr>\n",
       "    <tr>\n",
       "      <th>23</th>\n",
       "      <td>6.9</td>\n",
       "      <td>76</td>\n",
       "    </tr>\n",
       "    <tr>\n",
       "      <th>24</th>\n",
       "      <td>7.8</td>\n",
       "      <td>86</td>\n",
       "    </tr>\n",
       "  </tbody>\n",
       "</table>\n",
       "</div>"
      ],
      "text/plain": [
       "    Hours  Scores\n",
       "15    8.9      95\n",
       "16    2.5      30\n",
       "17    1.9      24\n",
       "18    6.1      67\n",
       "19    7.4      69\n",
       "20    2.7      30\n",
       "21    4.8      54\n",
       "22    3.8      35\n",
       "23    6.9      76\n",
       "24    7.8      86"
      ]
     },
     "execution_count": 11,
     "metadata": {},
     "output_type": "execute_result"
    }
   ],
   "source": [
    "data.tail(10)"
   ]
  },
  {
   "cell_type": "markdown",
   "id": "579d313c",
   "metadata": {},
   "source": [
    "# Initial Data Visualization for regression"
   ]
  },
  {
   "cell_type": "code",
   "execution_count": 5,
   "id": "0a5f82a6",
   "metadata": {},
   "outputs": [
    {
     "data": {
      "image/png": "[encoded data removed]",
      "text/plain": [
       "<Figure size 432x288 with 1 Axes>"
      ]
     },
     "metadata": {
      "needs_background": "light"
     },
     "output_type": "display_data"
    }
   ],
   "source": [
    "data.plot(x='Hours', y='Scores',style='o')  # select 'o' style for dot representation\n",
    "plt.title('Hours vs Percentage')  \n",
    "plt.xlabel('Total Study Hours')  \n",
    "plt.ylabel('Projected Percentage')  \n",
    "plt.show()"
   ]
  },
  {
   "cell_type": "markdown",
   "id": "aaee54ab",
   "metadata": {},
   "source": [
    "# Data pre-processing to fetch input / independent variable & dependent attribute"
   ]
  },
  {
   "cell_type": "code",
   "execution_count": 13,
   "id": "e9036014",
   "metadata": {},
   "outputs": [],
   "source": [
    "X = data.iloc[:, :-1].values  \n",
    "Y = data.iloc[:, 1].values"
   ]
  },
  {
   "cell_type": "markdown",
   "id": "bce07d92",
   "metadata": {},
   "source": [
    "# Train the model by spliting dataset into training & testing set"
   ]
  },
  {
   "cell_type": "code",
   "execution_count": 14,
   "id": "40d04d26",
   "metadata": {},
   "outputs": [
    {
     "name": "stdout",
     "output_type": "stream",
     "text": [
      "Model Trained Successfully.\n"
     ]
    }
   ],
   "source": [
    "X_train, X_test, Y_train, Y_test = train_test_split(X, Y, test_size=0.4, random_state=0) \n",
    "obj = LinearRegression()  #Linear regression object for model training\n",
    "obj.fit(X_train.reshape(-1,1), Y_train) \n",
    "\n",
    "print(\"Model Trained Successfully.\")"
   ]
  },
  {
   "cell_type": "markdown",
   "id": "31598e06",
   "metadata": {},
   "source": [
    "# Making actual graph of linear regression with regression line"
   ]
  },
  {
   "cell_type": "code",
   "execution_count": 15,
   "id": "1912ee97",
   "metadata": {},
   "outputs": [
    {
     "data": {
      "image/png": "[encoded data removed]",
      "text/plain": [
       "<Figure size 432x288 with 1 Axes>"
      ]
     },
     "metadata": {
      "needs_background": "light"
     },
     "output_type": "display_data"
    }
   ],
   "source": [
    "# Draw the regression line\n",
    "line = obj.coef_*X+obj.intercept_\n",
    "\n",
    "# Plot testing data on graph\n",
    "plt.scatter(X,Y)\n",
    "plt.plot(X, line,color='green') # assign red color to regression line\n",
    "plt.title('Regression Line For Testing dataset')  \n",
    "plt.xlabel('Total Study Hours')  \n",
    "plt.ylabel('Projected Percentage') \n",
    "plt.show()"
   ]
  },
  {
   "cell_type": "markdown",
   "id": "e7b38f70",
   "metadata": {},
   "source": [
    "# Predicting own data to check accuracy of our model"
   ]
  },
  {
   "cell_type": "code",
   "execution_count": 16,
   "id": "1d715e7b",
   "metadata": {},
   "outputs": [
    {
     "name": "stdout",
     "output_type": "stream",
     "text": [
      "[[1.5]\n",
      " [3.2]\n",
      " [7.4]\n",
      " [2.5]\n",
      " [5.9]\n",
      " [3.8]\n",
      " [1.9]\n",
      " [7.8]\n",
      " [6.9]\n",
      " [1.1]] \n",
      "\n",
      "[15.9477618  32.77394723 74.344523   25.84551793 59.49788879 38.71260091\n",
      " 19.90686425 78.30362545 69.39564493 11.98865934]\n"
     ]
    }
   ],
   "source": [
    "Y_pred = obj.predict(X_test) #making prediction using X_test variable & store it in to Y_pred\n",
    "print(X_test,\"\\n\")\n",
    "print(Y_pred)"
   ]
  },
  {
   "cell_type": "markdown",
   "id": "f116f0b6",
   "metadata": {},
   "source": [
    "# Making comparison between actual & predicted values"
   ]
  },
  {
   "cell_type": "code",
   "execution_count": 17,
   "id": "595ce8a5",
   "metadata": {},
   "outputs": [
    {
     "data": {
      "text/html": [
       "<div>\n",
       "<style scoped>\n",
       "    .dataframe tbody tr th:only-of-type {\n",
       "        vertical-align: middle;\n",
       "    }\n",
       "\n",
       "    .dataframe tbody tr th {\n",
       "        vertical-align: top;\n",
       "    }\n",
       "\n",
       "    .dataframe thead th {\n",
       "        text-align: right;\n",
       "    }\n",
       "</style>\n",
       "<table border=\"1\" class=\"dataframe\">\n",
       "  <thead>\n",
       "    <tr style=\"text-align: right;\">\n",
       "      <th></th>\n",
       "      <th>Actual Value</th>\n",
       "      <th>Predicted Value</th>\n",
       "    </tr>\n",
       "  </thead>\n",
       "  <tbody>\n",
       "    <tr>\n",
       "      <th>0</th>\n",
       "      <td>20</td>\n",
       "      <td>15.947762</td>\n",
       "    </tr>\n",
       "    <tr>\n",
       "      <th>1</th>\n",
       "      <td>27</td>\n",
       "      <td>32.773947</td>\n",
       "    </tr>\n",
       "    <tr>\n",
       "      <th>2</th>\n",
       "      <td>69</td>\n",
       "      <td>74.344523</td>\n",
       "    </tr>\n",
       "    <tr>\n",
       "      <th>3</th>\n",
       "      <td>30</td>\n",
       "      <td>25.845518</td>\n",
       "    </tr>\n",
       "    <tr>\n",
       "      <th>4</th>\n",
       "      <td>62</td>\n",
       "      <td>59.497889</td>\n",
       "    </tr>\n",
       "    <tr>\n",
       "      <th>5</th>\n",
       "      <td>35</td>\n",
       "      <td>38.712601</td>\n",
       "    </tr>\n",
       "    <tr>\n",
       "      <th>6</th>\n",
       "      <td>24</td>\n",
       "      <td>19.906864</td>\n",
       "    </tr>\n",
       "    <tr>\n",
       "      <th>7</th>\n",
       "      <td>86</td>\n",
       "      <td>78.303625</td>\n",
       "    </tr>\n",
       "    <tr>\n",
       "      <th>8</th>\n",
       "      <td>76</td>\n",
       "      <td>69.395645</td>\n",
       "    </tr>\n",
       "    <tr>\n",
       "      <th>9</th>\n",
       "      <td>17</td>\n",
       "      <td>11.988659</td>\n",
       "    </tr>\n",
       "  </tbody>\n",
       "</table>\n",
       "</div>"
      ],
      "text/plain": [
       "   Actual Value  Predicted Value\n",
       "0            20        15.947762\n",
       "1            27        32.773947\n",
       "2            69        74.344523\n",
       "3            30        25.845518\n",
       "4            62        59.497889\n",
       "5            35        38.712601\n",
       "6            24        19.906864\n",
       "7            86        78.303625\n",
       "8            76        69.395645\n",
       "9            17        11.988659"
      ]
     },
     "execution_count": 17,
     "metadata": {},
     "output_type": "execute_result"
    }
   ],
   "source": [
    "DF = pd.DataFrame({'Actual Value' : Y_test, 'Predicted Value' : Y_pred})\n",
    "DF"
   ]
  },
  {
   "cell_type": "markdown",
   "id": "0ed0c4f5",
   "metadata": {},
   "source": [
    "# Evaluating Training & Testing Score"
   ]
  },
  {
   "cell_type": "code",
   "execution_count": 19,
   "id": "dccc7127",
   "metadata": {},
   "outputs": [
    {
     "name": "stdout",
     "output_type": "stream",
     "text": [
      "Training Score: 0.9440108159733135\n",
      "Test Score: 0.956640847232559\n"
     ]
    }
   ],
   "source": [
    "print(\"Training Score:\", obj.score(X_train,Y_train))\n",
    "print(\"Test Score:\", obj.score(X_test,Y_test))"
   ]
  },
  {
   "cell_type": "markdown",
   "id": "01af08cb",
   "metadata": {},
   "source": [
    "# Drawing bar graph to differentiate actual & predicted values"
   ]
  },
  {
   "cell_type": "code",
   "execution_count": 20,
   "id": "0b071e69",
   "metadata": {},
   "outputs": [
    {
     "data": {
      "image/png": "[encoded data removed]",
      "text/plain": [
       "<Figure size 648x648 with 1 Axes>"
      ]
     },
     "metadata": {
      "needs_background": "light"
     },
     "output_type": "display_data"
    }
   ],
   "source": [
    "DF.plot(kind='bar',figsize=(9,9))\n",
    "plt.show()"
   ]
  },
  {
   "cell_type": "markdown",
   "id": "7df30cd9",
   "metadata": {},
   "source": [
    "# Take input from user for prediction"
   ]
  },
  {
   "cell_type": "code",
   "execution_count": 21,
   "id": "80216317",
   "metadata": {},
   "outputs": [
    {
     "name": "stdout",
     "output_type": "stream",
     "text": [
      "Enter the number of study hours :9.25\n",
      "Number of study hours : 9.25\n",
      "Estimated Percentage : 92.65537184734602\n"
     ]
    }
   ],
   "source": [
    "num_hours = float(input(\"Enter the number of study hours :\"))\n",
    "result = np.array([num_hours])\n",
    "result = result.reshape(-1, 1)\n",
    "prediction = obj.predict(result)\n",
    "\n",
    "print(\"Number of study hours : {}\".format(num_hours))\n",
    "print(\"Estimated Percentage : {}\".format(prediction[0]))"
   ]
  },
  {
   "cell_type": "markdown",
   "id": "d34f7328",
   "metadata": {},
   "source": [
    "# Accuracy of model by evaluating algorithm efficiency"
   ]
  },
  {
   "cell_type": "code",
   "execution_count": 22,
   "id": "7e2294ae",
   "metadata": {},
   "outputs": [
    {
     "name": "stdout",
     "output_type": "stream",
     "text": [
      "Mean Squared Error: 26.034569687682243\n",
      "Mean Absolute Error: 4.894510863410609\n",
      "Root Mean Squared Error: 5.102408224327238\n",
      "R2 Score: 0.956640847232559\n"
     ]
    }
   ],
   "source": [
    "from sklearn import metrics #importing metrics module from sklearn to get efficiency of algorithm\n",
    "print('Mean Squared Error:', metrics.mean_squared_error(Y_test, Y_pred))\n",
    "print('Mean Absolute Error:',metrics.mean_absolute_error(Y_test, Y_pred))\n",
    "print('Root Mean Squared Error:', np.sqrt(metrics.mean_squared_error(Y_test, Y_pred)))\n",
    "print('R2 Score:', metrics.r2_score(Y_test, Y_pred))"
   ]
  },
  {
   "cell_type": "markdown",
   "id": "8ad71607",
   "metadata": {},
   "source": [
    "\n",
    "R-squared evaluates the scatter of the data points around the fitted regression line. It is also called the coefficient of determination, or the coefficient of multiple determination for multiple regression. R-squared is the percentage of the dependent variable variation that a linear model explains."
   ]
  },
  {
   "cell_type": "markdown",
   "id": "6caa0397",
   "metadata": {},
   "source": [
    "# Task 1 Completed Successfully"
   ]
  },
  {
   "cell_type": "markdown",
   "id": "25361719",
   "metadata": {},
   "source": [
    "# Thankyou Spark Foundation For giving me this Great Oppertunity!"
   ]
  },
  {
   "cell_type": "code",
   "execution_count": null,
   "id": "2846d48c",
   "metadata": {},
   "outputs": [],
   "source": []
  }
 ],
 "metadata": {
  "kernelspec": {
   "display_name": "Python 3",
   "language": "python",
   "name": "python3"
  },
  "language_info": {
   "codemirror_mode": {
    "name": "ipython",
    "version": 3
   },
   "file_extension": ".py",
   "mimetype": "text/x-python",
   "name": "python",
   "nbconvert_exporter": "python",
   "pygments_lexer": "ipython3",
   "version": "3.8.8"
  }
 },
 "nbformat": 4,
 "nbformat_minor": 5
}
